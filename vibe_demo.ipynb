{
  "nbformat": 4,
  "nbformat_minor": 0,
  "metadata": {
    "colab": {
      "provenance": [],
      "include_colab_link": true
    },
    "kernelspec": {
      "name": "python3",
      "display_name": "Python 3"
    },
    "accelerator": "GPU"
  },
  "cells": [
    {
      "cell_type": "markdown",
      "metadata": {
        "id": "view-in-github",
        "colab_type": "text"
      },
      "source": [
        "<a href=\"https://colab.research.google.com/github/htanugarapur/dummymocap/blob/main/vibe_demo.ipynb\" target=\"_parent\"><img src=\"https://colab.research.google.com/assets/colab-badge.svg\" alt=\"Open In Colab\"/></a>"
      ]
    },
    {
      "cell_type": "markdown",
      "metadata": {
        "id": "9QmY4dDYpmfB"
      },
      "source": [
        "# VIBE: Video Inference for Human Body Pose and Shape Estimation\n",
        "\n",
        "Demo of the original PyTorch based implementation provided here: https://github.com/mkocabas/VIBE\n",
        "\n",
        "## Note\n",
        "Before running this notebook make sure that your runtime type is 'Python 3 with GPU acceleration'. Go to Edit > Notebook settings > Hardware Accelerator > Select \"GPU\".\n",
        "\n",
        "## More Info\n",
        "- Paper: https://arxiv.org/abs/1912.05656\n",
        "- Repo: https://github.com/mkocabas/VIBE"
      ]
    },
    {
      "cell_type": "code",
      "metadata": {
        "id": "Tvd4cfPk5a0e",
        "outputId": "90908337-f38d-4d6c-d0f3-55a154f0b932",
        "colab": {
          "base_uri": "https://localhost:8080/"
        }
      },
      "source": [
        "# Clone the repo\n",
        "!git clone https://github.com/mkocabas/VIBE.git"
      ],
      "execution_count": 1,
      "outputs": [
        {
          "output_type": "stream",
          "name": "stdout",
          "text": [
            "fatal: destination path 'VIBE' already exists and is not an empty directory.\n"
          ]
        }
      ]
    },
    {
      "cell_type": "code",
      "metadata": {
        "id": "Sui0UeZR5vCy",
        "outputId": "03f9d909-9cf6-419a-c39e-881135688b10",
        "colab": {
          "base_uri": "https://localhost:8080/"
        }
      },
      "source": [
        "%cd VIBE/"
      ],
      "execution_count": 3,
      "outputs": [
        {
          "output_type": "stream",
          "name": "stdout",
          "text": [
            "/content/VIBE\n"
          ]
        }
      ]
    },
    {
      "cell_type": "code",
      "metadata": {
        "id": "Rs6UTvVO6Fxf",
        "outputId": "97eaeb3e-e29c-4b30-f2cc-ca4a50858500",
        "colab": {
          "base_uri": "https://localhost:8080/"
        }
      },
      "source": [
        "# Install the other requirements\n",
        "# ✅ Safe PyTorch version for Colab GPU\n",
        "!pip install torch==1.13.1+cu117 torchvision==0.14.1+cu117 torchaudio==0.13.1 -f https://download.pytorch.org/whl/torch_stable.html\n",
        "\n",
        "# ✅ Compatible numpy and scipy\n",
        "!pip install numpy==1.23.0 scipy==1.10.0\n",
        "\n",
        "# ✅ Other requirements\n",
        "!pip install yacs==0.1.6 tqdm==4.28.1 h5py==2.10.0\n",
        "!pip install git+https://github.com/giacaglia/pytube.git --upgrade\n",
        "\n",
        "# !pip install torch==1.4.0 numpy==1.17.5\n",
        "# !pip install git+https://github.com/giacaglia/pytube.git --upgrade\n",
        "!pip install -r requirements.txt"
      ],
      "execution_count": 2,
      "outputs": [
        {
          "metadata": {
            "tags": null
          },
          "name": "stdout",
          "output_type": "stream",
          "text": [
            "Looking in links: https://download.pytorch.org/whl/torch_stable.html\n",
            "Collecting torch==1.13.1+cu117\n",
            "  Using cached https://download.pytorch.org/whl/cu117/torch-1.13.1%2Bcu117-cp311-cp311-linux_x86_64.whl (1801.8 MB)\n",
            "\u001b[31mERROR: Ignored the following yanked versions: 0.1.6, 0.1.7, 0.1.8, 0.1.9, 0.2.0, 0.2.1, 0.2.2, 0.2.2.post2, 0.2.2.post3, 0.15.0\u001b[0m\u001b[31m\n",
            "\u001b[0m\u001b[31mERROR: Could not find a version that satisfies the requirement torchvision==0.14.1+cu117 (from versions: 0.1.6, 0.2.0, 0.15.0+cpu, 0.15.0+cu117, 0.15.0+cu118, 0.15.1, 0.15.1+cpu, 0.15.1+cu117, 0.15.1+cu118, 0.15.2, 0.15.2+cpu, 0.15.2+cu117, 0.15.2+cu118, 0.15.2+rocm5.3, 0.15.2+rocm5.4.2, 0.16.0, 0.16.0+cpu, 0.16.0+cu118, 0.16.0+cu121, 0.16.0+rocm5.5, 0.16.0+rocm5.6, 0.16.1, 0.16.1+cpu, 0.16.1+cu118, 0.16.1+cu121, 0.16.1+rocm5.5, 0.16.1+rocm5.6, 0.16.2, 0.16.2+cpu, 0.16.2+cu118, 0.16.2+cu121, 0.16.2+rocm5.5, 0.16.2+rocm5.6, 0.17.0, 0.17.0+cpu, 0.17.0+cu118, 0.17.0+cu121, 0.17.0+rocm5.6, 0.17.0+rocm5.7, 0.17.1, 0.17.1+cpu, 0.17.1+cu118, 0.17.1+cu121, 0.17.1+rocm5.6, 0.17.1+rocm5.7, 0.17.2, 0.17.2+cpu, 0.17.2+cu118, 0.17.2+cu121, 0.17.2+rocm5.6, 0.17.2+rocm5.7, 0.18.0, 0.18.0+cpu, 0.18.0+cu118, 0.18.0+cu121, 0.18.0+rocm5.7, 0.18.0+rocm6.0, 0.18.1, 0.18.1+cpu, 0.18.1+cu118, 0.18.1+cu121, 0.18.1+rocm5.7, 0.18.1+rocm6.0, 0.19.0, 0.19.1, 0.20.0, 0.20.1, 0.21.0, 0.22.0, 0.22.1)\u001b[0m\u001b[31m\n",
            "\u001b[0m\u001b[31mERROR: No matching distribution found for torchvision==0.14.1+cu117\u001b[0m\u001b[31m\n",
            "\u001b[0mRequirement already satisfied: numpy==1.23.0 in /usr/local/lib/python3.11/dist-packages (1.23.0)\n",
            "Requirement already satisfied: scipy==1.10.0 in /usr/local/lib/python3.11/dist-packages (1.10.0)\n",
            "Collecting yacs==0.1.6\n",
            "  Using cached yacs-0.1.6-py3-none-any.whl.metadata (639 bytes)\n",
            "Collecting tqdm==4.28.1\n",
            "  Using cached tqdm-4.28.1-py2.py3-none-any.whl.metadata (34 kB)\n",
            "Collecting h5py==2.10.0\n",
            "  Using cached h5py-2.10.0.tar.gz (301 kB)\n",
            "  Preparing metadata (setup.py) ... \u001b[?25l\u001b[?25hdone\n",
            "Requirement already satisfied: PyYAML in /usr/local/lib/python3.11/dist-packages (from yacs==0.1.6) (6.0.2)\n",
            "Requirement already satisfied: numpy>=1.7 in /usr/local/lib/python3.11/dist-packages (from h5py==2.10.0) (1.23.0)\n",
            "Requirement already satisfied: six in /usr/local/lib/python3.11/dist-packages (from h5py==2.10.0) (1.17.0)\n",
            "Using cached yacs-0.1.6-py3-none-any.whl (9.6 kB)\n",
            "Using cached tqdm-4.28.1-py2.py3-none-any.whl (45 kB)\n",
            "Building wheels for collected packages: h5py\n",
            "  \u001b[1;31merror\u001b[0m: \u001b[1msubprocess-exited-with-error\u001b[0m\n",
            "  \n",
            "  \u001b[31m×\u001b[0m \u001b[32mpython setup.py bdist_wheel\u001b[0m did not run successfully.\n",
            "  \u001b[31m│\u001b[0m exit code: \u001b[1;36m1\u001b[0m\n",
            "  \u001b[31m╰─>\u001b[0m See above for output.\n",
            "  \n",
            "  \u001b[1;35mnote\u001b[0m: This error originates from a subprocess, and is likely not a problem with pip.\n",
            "  Building wheel for h5py (setup.py) ... \u001b[?25lerror\n",
            "\u001b[31m  ERROR: Failed building wheel for h5py\u001b[0m\u001b[31m\n",
            "\u001b[0m\u001b[?25h  Running setup.py clean for h5py\n",
            "Failed to build h5py\n",
            "\u001b[31mERROR: ERROR: Failed to build installable wheels for some pyproject.toml based projects (h5py)\u001b[0m\u001b[31m\n",
            "\u001b[0mCollecting git+https://github.com/giacaglia/pytube.git\n",
            "  Cloning https://github.com/giacaglia/pytube.git to /tmp/pip-req-build-nygzdnt_\n",
            "  Running command git clone --filter=blob:none --quiet https://github.com/giacaglia/pytube.git /tmp/pip-req-build-nygzdnt_\n",
            "  Resolved https://github.com/giacaglia/pytube.git to commit 47c0b249ca032f8112ee9218da79dbfee1596ad5\n",
            "  Preparing metadata (setup.py) ... \u001b[?25l\u001b[?25hdone\n",
            "\u001b[31mERROR: Could not open requirements file: [Errno 2] No such file or directory: 'requirements.txt'\u001b[0m\u001b[31m\n",
            "\u001b[0m"
          ]
        }
      ]
    },
    {
      "cell_type": "code",
      "metadata": {
        "id": "brZt0q3Y6X5W"
      },
      "source": [
        "# Download pretrained weights and SMPL data\n",
        "!source scripts/prepare_data.sh"
      ],
      "execution_count": null,
      "outputs": []
    },
    {
      "cell_type": "markdown",
      "metadata": {
        "id": "J7A7eakXIn9A"
      },
      "source": [
        "### Run the demo code.\n",
        "\n",
        "Check https://github.com/mkocabas/VIBE/blob/master/doc/demo.md for more details about demo.\n",
        "\n",
        "**Note:** Final rendering is slow compared to inference. We use pyrender with GPU accelaration and it takes 2-3 FPS per image. Please let us know if you know any faster alternative."
      ]
    },
    {
      "cell_type": "code",
      "metadata": {
        "id": "qVNszfLQ7rC9"
      },
      "source": [
        "# Run the demo\n",
        "!python demo.py --vid_file Father.mp4 --output_folder output/ --sideview\n",
        "\n",
        "# You may use --sideview flag to enable from a different viewpoint, note that this doubles rendering time.\n",
        "# !python demo.py --vid_file sample_video.mp4 --output_folder output/ --sideview\n",
        "\n",
        "# You may also run VIBE on a YouTube video by providing a link\n",
        "# python demo.py --vid_file https://www.youtube.com/watch?v=c4DAnQ6DtF8 --output_folder output/ --display"
      ],
      "execution_count": null,
      "outputs": []
    },
    {
      "cell_type": "code",
      "metadata": {
        "id": "j8zxBa_K-FJf"
      },
      "source": [
        "# Play the generated video\n",
        "from IPython.display import HTML\n",
        "from base64 import b64encode\n",
        "\n",
        "def video(path):\n",
        "  mp4 = open(path,'rb').read()\n",
        "  data_url = \"data:video/mp4;base64,\" + b64encode(mp4).decode()\n",
        "  return HTML('<video width=500 controls loop> <source src=\"%s\" type=\"video/mp4\"></video>' % data_url)\n",
        "\n",
        "video('output/sample_video/sample_video_vibe_result.mp4')"
      ],
      "execution_count": null,
      "outputs": []
    },
    {
      "cell_type": "code",
      "metadata": {
        "id": "FGcw0HzhtPxj"
      },
      "source": [
        "# Inspect the output file content\n",
        "import joblib\n",
        "output = joblib.load('output/sample_video/vibe_output.pkl')\n",
        "print('Track ids:', output.keys(), end='\\n\\n')\n",
        "\n",
        "print('VIBE output file content:', end='\\n\\n')\n",
        "for k,v in output[1].items():\n",
        "  if k != 'joints2d':\n",
        "    print(k, v.shape)"
      ],
      "execution_count": null,
      "outputs": []
    },
    {
      "cell_type": "code",
      "source": [],
      "metadata": {
        "id": "o0QlsB1KfTt7"
      },
      "execution_count": null,
      "outputs": []
    }
  ]
}